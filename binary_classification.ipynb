{
 "cells": [
  {
   "cell_type": "code",
   "execution_count": 61,
   "metadata": {},
   "outputs": [],
   "source": [
    "from keras.datasets import imdb"
   ]
  },
  {
   "cell_type": "code",
   "execution_count": 62,
   "metadata": {},
   "outputs": [],
   "source": [
    "(train_data, train_labels),(test_data, test_labels) = imdb.load_data(num_words = 10000)"
   ]
  },
  {
   "cell_type": "code",
   "execution_count": 63,
   "metadata": {},
   "outputs": [
    {
     "data": {
      "text/plain": [
       "9999"
      ]
     },
     "execution_count": 63,
     "metadata": {},
     "output_type": "execute_result"
    }
   ],
   "source": [
    "max([max(sequence) for sequence in train_data])"
   ]
  },
  {
   "cell_type": "code",
   "execution_count": 79,
   "metadata": {},
   "outputs": [],
   "source": [
    "word_index = imdb.get_word_index() # maps words to an integer index\n",
    "reserve_word_index = dict([(value, key) for (key, value) in word_index.items()]) # reverses it mapping integer_index to word_index\n",
    "\n",
    "# The indices are decoded and offset by 3 because 0, 1, and 2 are\n",
    "# reserved indices for “padding,” “start of sequence,” and “unknown.”\n",
    "decoded_review = ' '.join([reserve_word_index.get(i - 3, '?') for i in train_data[0]]) "
   ]
  },
  {
   "cell_type": "code",
   "execution_count": 80,
   "metadata": {},
   "outputs": [
    {
     "data": {
      "text/plain": [
       "\"? this film was just brilliant casting location scenery story direction everyone's really suited the part they played and you could just imagine being there robert ? is an amazing actor and now the same being director ? father came from the same scottish island as myself so i loved the fact there was a real connection with this film the witty remarks throughout the film were great it was just brilliant so much that i bought the film as soon as it was released for ? and would recommend it to everyone to watch and the fly fishing was amazing really cried at the end it was so sad and you know what they say if you cry at a film it must have been good and this definitely was also ? to the two little boy's that played the ? of norman and paul they were just brilliant children are often left out of the ? list i think because the stars that play them all grown up are such a big profile for the whole film but these children are amazing and should be praised for what they have done don't you think the whole story was so lovely because it was true and was someone's life after all that was shared with us all\""
      ]
     },
     "execution_count": 80,
     "metadata": {},
     "output_type": "execute_result"
    }
   ],
   "source": [
    "decoded_review"
   ]
  },
  {
   "cell_type": "code",
   "execution_count": 65,
   "metadata": {},
   "outputs": [],
   "source": [
    "import numpy as np\n",
    "\n",
    "def vectorize_sequences(sequences, dimension = 10000):\n",
    "    results = np.zeros((len(sequences), dimension))\n",
    "    for i, sequence in enumerate(sequences):\n",
    "        results[i, sequence] = 1 # sets a specific indices of results[i] to 1s\n",
    "    return results\n",
    "\n",
    "x_train = vectorize_sequences(train_data)\n",
    "x_test = vectorize_sequences(test_data)"
   ]
  },
  {
   "cell_type": "code",
   "execution_count": 66,
   "metadata": {},
   "outputs": [],
   "source": [
    "# vectorize labels\n",
    "y_train = np.asarray(train_labels).astype('float32')\n",
    "y_test = np.asarray(test_labels).astype('float32')"
   ]
  },
  {
   "cell_type": "code",
   "execution_count": 67,
   "metadata": {},
   "outputs": [],
   "source": [
    "# input data are vectors and the labels scalars\n",
    "# Therefore, use fully-connected layers(Dense), and (Relu) activation function\n",
    "from keras import models\n",
    "from keras import layers, optimizers, losses, metrics\n",
    "\n",
    "model = models.Sequential()\n",
    "model.add(layers.Dense(16, activation ='relu', input_shape = (10000,)))\n",
    "model.add(layers.Dense(16, activation ='relu'))\n",
    "model.add(layers.Dense(1, activation ='sigmoid'))\n"
   ]
  },
  {
   "cell_type": "code",
   "execution_count": 68,
   "metadata": {},
   "outputs": [],
   "source": [
    "# compiling the model\n",
    "model.compile(optimizer=optimizers.RMSprop(lr=0.001),\n",
    "              loss=losses.binary_crossentropy,\n",
    "              metrics=[metrics.binary_accuracy])\n",
    "# model.compile(optimizer= optimizers.RMSprop(lr = 0.001), loss = losses.binary_crossentropy, metrics = metrics.binary_accuracy)\n",
    "\n"
   ]
  },
  {
   "cell_type": "code",
   "execution_count": 69,
   "metadata": {},
   "outputs": [],
   "source": [
    "# setting a side a validation set\n",
    "x_val = x_train[:10000]\n",
    "partial_x_train =x_train[10000:]\n",
    "\n",
    "y_val = y_train[:10000]\n",
    "partial_y_train =y_train[10000:]"
   ]
  },
  {
   "cell_type": "code",
   "execution_count": 70,
   "metadata": {},
   "outputs": [
    {
     "name": "stdout",
     "output_type": "stream",
     "text": [
      "Train on 15000 samples, validate on 10000 samples\n",
      "Epoch 1/20\n",
      "15000/15000 [==============================] - 2s 116us/step - loss: 0.5523 - acc: 0.7656 - val_loss: 0.4246 - val_acc: 0.8681\n",
      "Epoch 2/20\n",
      "15000/15000 [==============================] - 1s 99us/step - loss: 0.3394 - acc: 0.8961 - val_loss: 0.3225 - val_acc: 0.8854\n",
      "Epoch 3/20\n",
      "15000/15000 [==============================] - 1s 99us/step - loss: 0.2424 - acc: 0.9242 - val_loss: 0.2854 - val_acc: 0.8911\n",
      "Epoch 4/20\n",
      "15000/15000 [==============================] - 1s 98us/step - loss: 0.1895 - acc: 0.9381 - val_loss: 0.2751 - val_acc: 0.8901\n",
      "Epoch 5/20\n",
      "15000/15000 [==============================] - 1s 97us/step - loss: 0.1530 - acc: 0.9511 - val_loss: 0.2771 - val_acc: 0.8874\n",
      "Epoch 6/20\n",
      "15000/15000 [==============================] - 1s 99us/step - loss: 0.1272 - acc: 0.9602 - val_loss: 0.2894 - val_acc: 0.8853\n",
      "Epoch 7/20\n",
      "15000/15000 [==============================] - 2s 108us/step - loss: 0.1034 - acc: 0.9694 - val_loss: 0.3084 - val_acc: 0.8841\n",
      "Epoch 8/20\n",
      "15000/15000 [==============================] - 1s 99us/step - loss: 0.0870 - acc: 0.9755 - val_loss: 0.3220 - val_acc: 0.8823\n",
      "Epoch 9/20\n",
      "15000/15000 [==============================] - 2s 104us/step - loss: 0.0702 - acc: 0.9816 - val_loss: 0.3435 - val_acc: 0.8807\n",
      "Epoch 10/20\n",
      "15000/15000 [==============================] - 2s 126us/step - loss: 0.0597 - acc: 0.9857 - val_loss: 0.3707 - val_acc: 0.8759\n",
      "Epoch 11/20\n",
      "15000/15000 [==============================] - 2s 126us/step - loss: 0.0474 - acc: 0.9885 - val_loss: 0.3971 - val_acc: 0.8736\n",
      "Epoch 12/20\n",
      "15000/15000 [==============================] - 2s 128us/step - loss: 0.0380 - acc: 0.9919 - val_loss: 0.4798 - val_acc: 0.8599\n",
      "Epoch 13/20\n",
      "15000/15000 [==============================] - 2s 123us/step - loss: 0.0307 - acc: 0.9945 - val_loss: 0.4513 - val_acc: 0.8745\n",
      "Epoch 14/20\n",
      "15000/15000 [==============================] - 2s 119us/step - loss: 0.0252 - acc: 0.9952 - val_loss: 0.4853 - val_acc: 0.8716\n",
      "Epoch 15/20\n",
      "15000/15000 [==============================] - 2s 120us/step - loss: 0.0200 - acc: 0.9966 - val_loss: 0.5238 - val_acc: 0.8663\n",
      "Epoch 16/20\n",
      "15000/15000 [==============================] - 2s 125us/step - loss: 0.0136 - acc: 0.9987 - val_loss: 0.6336 - val_acc: 0.8624\n",
      "Epoch 17/20\n",
      "15000/15000 [==============================] - 2s 120us/step - loss: 0.0124 - acc: 0.9987 - val_loss: 0.5879 - val_acc: 0.8694\n",
      "Epoch 18/20\n",
      "15000/15000 [==============================] - 2s 136us/step - loss: 0.0104 - acc: 0.9984 - val_loss: 0.6155 - val_acc: 0.8689\n",
      "Epoch 19/20\n",
      "15000/15000 [==============================] - 2s 131us/step - loss: 0.0061 - acc: 0.9995 - val_loss: 0.7264 - val_acc: 0.8625\n",
      "Epoch 20/20\n",
      "15000/15000 [==============================] - 2s 126us/step - loss: 0.0068 - acc: 0.9991 - val_loss: 0.6987 - val_acc: 0.8656\n"
     ]
    }
   ],
   "source": [
    "# training the model\n",
    "model.compile(optimizer = 'rmsprop', loss = 'binary_crossentropy', metrics =['acc']) \n",
    "\n",
    "# the call to model.fit() returns a History object\n",
    "history = model.fit(partial_x_train, partial_y_train, epochs = 20, batch_size = 512, validation_data = (x_val, y_val))\n"
   ]
  },
  {
   "cell_type": "code",
   "execution_count": 71,
   "metadata": {},
   "outputs": [
    {
     "data": {
      "text/plain": [
       "dict_keys(['val_loss', 'val_acc', 'loss', 'acc'])"
      ]
     },
     "execution_count": 71,
     "metadata": {},
     "output_type": "execute_result"
    }
   ],
   "source": [
    "history_dict = history.history\n",
    "history_dict.keys()"
   ]
  },
  {
   "cell_type": "code",
   "execution_count": 73,
   "metadata": {},
   "outputs": [
    {
     "data": {
      "image/png": "[encoded data removed]",
      "text/plain": [
       "<Figure size 432x288 with 1 Axes>"
      ]
     },
     "metadata": {
      "needs_background": "light"
     },
     "output_type": "display_data"
    }
   ],
   "source": [
    "import matplotlib.pyplot as plt\n",
    "\n",
    "acc = history.history['acc']\n",
    "val_acc = history.history['val_acc']\n",
    "loss = history.history['loss']\n",
    "val_loss = history.history['val_loss']\n",
    "\n",
    "epochs = range(1, len(acc) + 1)\n",
    "\n",
    "# \"bo\" is for \"blue dot\"\n",
    "plt.plot(epochs, loss, 'bo', label='Training loss')\n",
    "# b is for \"solid blue line\"\n",
    "plt.plot(epochs, val_loss, 'b', label='Validation loss')\n",
    "plt.title('Training and validation loss')\n",
    "plt.xlabel('Epochs')\n",
    "plt.ylabel('Loss')\n",
    "plt.legend()\n",
    "\n",
    "plt.show()"
   ]
  },
  {
   "cell_type": "code",
   "execution_count": 74,
   "metadata": {},
   "outputs": [
    {
     "data": {
      "image/png": "[encoded data removed]",
      "text/plain": [
       "<Figure size 432x288 with 1 Axes>"
      ]
     },
     "metadata": {
      "needs_background": "light"
     },
     "output_type": "display_data"
    }
   ],
   "source": [
    "plt.clf()   # clear figure\n",
    "acc_values = history_dict['acc']\n",
    "val_acc_values = history_dict['val_acc']\n",
    "\n",
    "plt.plot(epochs, acc, 'bo', label='Training acc')\n",
    "plt.plot(epochs, val_acc, 'b', label='Validation acc')\n",
    "plt.title('Training and validation accuracy')\n",
    "plt.xlabel('Epochs')\n",
    "plt.ylabel('Loss')\n",
    "plt.legend()\n",
    "\n",
    "plt.show()"
   ]
  },
  {
   "cell_type": "code",
   "execution_count": 75,
   "metadata": {},
   "outputs": [
    {
     "name": "stdout",
     "output_type": "stream",
     "text": [
      "Epoch 1/4\n",
      "25000/25000 [==============================] - 2s 68us/step - loss: 0.4636 - accuracy: 0.8241\n",
      "Epoch 2/4\n",
      "25000/25000 [==============================] - 2s 67us/step - loss: 0.2649 - accuracy: 0.9080\n",
      "Epoch 3/4\n",
      "25000/25000 [==============================] - 2s 66us/step - loss: 0.2013 - accuracy: 0.9287\n",
      "Epoch 4/4\n",
      "25000/25000 [==============================] - 2s 63us/step - loss: 0.1686 - accuracy: 0.9402\n",
      "25000/25000 [==============================] - 2s 78us/step\n"
     ]
    }
   ],
   "source": [
    "# stop training after the third epoch to avoid overfitting\n",
    "model = models.Sequential()\n",
    "model.add(layers.Dense(16, activation='relu', input_shape=(10000,)))\n",
    "model.add(layers.Dense(16, activation='relu'))\n",
    "model.add(layers.Dense(1, activation='sigmoid'))\n",
    "\n",
    "model.compile(optimizer='rmsprop',\n",
    "              loss='binary_crossentropy',\n",
    "              metrics=['accuracy'])\n",
    "\n",
    "model.fit(x_train, y_train, epochs=4, batch_size=512)\n",
    "results = model.evaluate(x_test, y_test)"
   ]
  },
  {
   "cell_type": "code",
   "execution_count": 76,
   "metadata": {},
   "outputs": [
    {
     "data": {
      "text/plain": [
       "[0.292080179977417, 0.8846399784088135]"
      ]
     },
     "execution_count": 76,
     "metadata": {},
     "output_type": "execute_result"
    }
   ],
   "source": [
    "results\n"
   ]
  },
  {
   "cell_type": "code",
   "execution_count": 77,
   "metadata": {},
   "outputs": [
    {
     "data": {
      "text/plain": [
       "array([[0.18848728],\n",
       "       [0.9998324 ],\n",
       "       [0.881862  ],\n",
       "       ...,\n",
       "       [0.10292164],\n",
       "       [0.0662666 ],\n",
       "       [0.579246  ]], dtype=float32)"
      ]
     },
     "execution_count": 77,
     "metadata": {},
     "output_type": "execute_result"
    }
   ],
   "source": [
    "\n",
    "model.predict(x_test)"
   ]
  },
  {
   "cell_type": "code",
   "execution_count": null,
   "metadata": {},
   "outputs": [],
   "source": []
  }
 ],
 "metadata": {
  "kernelspec": {
   "display_name": "Python 3",
   "language": "python",
   "name": "python3"
  },
  "language_info": {
   "codemirror_mode": {
    "name": "ipython",
    "version": 3
   },
   "file_extension": ".py",
   "mimetype": "text/x-python",
   "name": "python",
   "nbconvert_exporter": "python",
   "pygments_lexer": "ipython3",
   "version": "3.7.6"
  }
 },
 "nbformat": 4,
 "nbformat_minor": 2
}
